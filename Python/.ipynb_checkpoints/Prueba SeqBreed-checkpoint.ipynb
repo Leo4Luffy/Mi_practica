{
 "cells": [
  {
   "cell_type": "markdown",
   "metadata": {},
   "source": [
    "# Prueba del software en Python3 _SeqBreed_ 👨🏾‍💻 🧬"
   ]
  },
  {
   "cell_type": "markdown",
   "metadata": {},
   "source": [
    "_SeqBreed_, desarrollado por los doctores **Miguel Perez-Enciso**, **Laura M. Zingaretti** y **Lino C. Ramirez-Ayala**, es un software de Python3 que permite simular experimentos de selección genómica (siendo este su **objetivo principal**) como forma de aliviar el costo y la dificultad de implementar la predicción genómica en escenarios prácticos."
   ]
  },
  {
   "cell_type": "markdown",
   "metadata": {},
   "source": [
    "Aunque también permite implementar los procedimentos de selección genómica, como lo son el **BLUP**, **GBLUP** y **SSTEP**."
   ]
  },
  {
   "cell_type": "markdown",
   "metadata": {},
   "source": [
    "Para usar el software, se requiere instalar las siguientes librerías:"
   ]
  },
  {
   "cell_type": "markdown",
   "metadata": {},
   "source": [
    "- scipy\n",
    "- numpy\n",
    "- pandas\n",
    "- os\n",
    "- sys\n",
    "- gzip\n",
    "- pickle\n",
    "- matplotlib\n",
    "- scikit-learn\n",
    "- statsmodels\n",
    "- scaborn\n",
    "- cython"
   ]
  },
  {
   "cell_type": "markdown",
   "metadata": {},
   "source": [
    "💭 **Nota:** para instalar las anteriores librerias use _pip_. Para instalar _pip_ use el siguiente comando: **sudo apt-get install python-pip** (para la distribución de _linux_ **ubuntu**). Así por ejemplo para instalar la librería _scipy_, use: **sudo pip install scipy** o con (para aquellas librerias que no me dejo con la anterior opción) **sudo apt-get install python-statsmodels**... ambas son dos formas agradables de instalar paquetes de Python en Ubuntu (y sistemas Linux similares) 🖖🏽... para saber si una libreria esta instalada se puede usar **python -m pip show scipy** lo cual muestra información detallada del paquete si está instalado o nada si el paquete no se encuentra."
   ]
  },
  {
   "cell_type": "markdown",
   "metadata": {},
   "source": [
    "### 👨🏽‍💻  Instalación del software"
   ]
  },
  {
   "cell_type": "markdown",
   "metadata": {},
   "source": [
    "Para instalar el software SeqBreed, se debe clonar el repositorio y ejecutar el siguiente comando: **sudo python3 -m pip install SeqBreed-XXX.whl**."
   ]
  },
  {
   "cell_type": "markdown",
   "metadata": {},
   "source": [
    "+ 💣 Para hacer el anterior proceso, debi previamente bajar el software del repositorio (https://github.com/miguelperezenciso/SeqBreed), extraer el archivo .zip, y luego dentro de la carpeta extraida ejecutar el código cambiando XXX por SeqBreed-0.1-py3-none-any.whl: pip3 install --user SeqBreed-**0.1-py3-none-any**.whl."
   ]
  },
  {
   "cell_type": "code",
   "execution_count": 36,
   "metadata": {
    "scrolled": true
   },
   "outputs": [
    {
     "ename": "ModuleNotFoundError",
     "evalue": "No module named 'SeqBreed'",
     "output_type": "error",
     "traceback": [
      "\u001b[0;31m---------------------------------------------------------------------------\u001b[0m",
      "\u001b[0;31mModuleNotFoundError\u001b[0m                       Traceback (most recent call last)",
      "\u001b[0;32m<ipython-input-36-5d0d48a5c47e>\u001b[0m in \u001b[0;36m<module>\u001b[0;34m\u001b[0m\n\u001b[1;32m      2\u001b[0m \u001b[0msys\u001b[0m\u001b[0;34m.\u001b[0m\u001b[0mpath\u001b[0m\u001b[0;34m.\u001b[0m\u001b[0mappend\u001b[0m\u001b[0;34m(\u001b[0m\u001b[0;34m'/home/leo/anaconda3/pkgs/SeqBreed'\u001b[0m\u001b[0;34m)\u001b[0m\u001b[0;34m\u001b[0m\u001b[0;34m\u001b[0m\u001b[0m\n\u001b[1;32m      3\u001b[0m \u001b[0;34m\u001b[0m\u001b[0m\n\u001b[0;32m----> 4\u001b[0;31m \u001b[0;32mfrom\u001b[0m \u001b[0mSeqBreed\u001b[0m \u001b[0;32mimport\u001b[0m \u001b[0mgenome\u001b[0m \u001b[0;32mas\u001b[0m \u001b[0mgg\u001b[0m\u001b[0;34m\u001b[0m\u001b[0;34m\u001b[0m\u001b[0m\n\u001b[0m",
      "\u001b[0;31mModuleNotFoundError\u001b[0m: No module named 'SeqBreed'"
     ]
    }
   ],
   "source": [
    "import sys\n",
    "sys.path.append('/home/leo/anaconda3/pkgs/SeqBreed') # De esta forma es posible acceder a un paquete importado desde GitHubb\n",
    "\n",
    "from SeqBreed import genome as gg # NOTA: No he podido importar el paquete SeqBreed aún cuando ya lo instale"
   ]
  },
  {
   "cell_type": "markdown",
   "metadata": {},
   "source": [
    "## Referencia bibliografica\n",
    "\n",
    "Pérez-Enciso M, Ramírez-Ayala L C y Zingaretti L M. 2019. SeqBreed: a python tool to evaluate genomic prediction in complex scenarios. BioRxiv, 1-11."
   ]
  }
 ],
 "metadata": {
  "kernelspec": {
   "display_name": "Python 3",
   "language": "python",
   "name": "python3"
  },
  "language_info": {
   "codemirror_mode": {
    "name": "ipython",
    "version": 3
   },
   "file_extension": ".py",
   "mimetype": "text/x-python",
   "name": "python",
   "nbconvert_exporter": "python",
   "pygments_lexer": "ipython3",
   "version": "3.7.3"
  }
 },
 "nbformat": 4,
 "nbformat_minor": 2
}
