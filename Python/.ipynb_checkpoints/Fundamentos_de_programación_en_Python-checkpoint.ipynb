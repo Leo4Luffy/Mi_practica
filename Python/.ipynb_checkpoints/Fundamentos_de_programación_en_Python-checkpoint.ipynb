{
 "cells": [
  {
   "cell_type": "markdown",
   "metadata": {},
   "source": [
    "# Toma de notas del curso de fundamentos de programación en Python"
   ]
  },
  {
   "cell_type": "markdown",
   "metadata": {},
   "source": [
    "## Modulo 1 - Introducción a Python y a la programación, fundamentos básicos"
   ]
  },
  {
   "cell_type": "markdown",
   "metadata": {},
   "source": [
    "Un lenguaje es un medio (y una herramienta) para expresar y registrar pensamientos. Hay muchos lenguajes a nuestro alrededor, como el lenguaje corporal (donde se expresan los sentimientos sin decir una palabra) y la lengua materna (que se usa para manisfestar la voluntad y pensar en la realidad). Las computadoras también tienen su propio lenguaje, llamado lenguaje de __máquina__."
   ]
  },
  {
   "cell_type": "markdown",
   "metadata": {},
   "source": [
    "Una computadora, incluso la más técnicamente sofisticada, carece de un rastro de inteligencia. Se podría decir que es como un perro bien entrenado, responde solo a un conjunto predeterminado de comandos conocidos. Los comandos que reconoce son muy simples. Podemos imaginar que la computadora responde a órdenes como \"Toma ese número, divídelo por otro y guarda el resultado\"."
   ]
  },
  {
   "cell_type": "markdown",
   "metadata": {},
   "source": [
    "Un conjunto completo de comandos conocidos se llama __lista de instrucciones__, a veces abreviada __IL__ (por sus siglas en inglés de Instruction List). Los diferentes tipos de computadoras pueden variar según el tamaño de sus IL y las instrucciones pueden ser completamente diferentes en diferentes modelos."
   ]
  },
  {
   "cell_type": "markdown",
   "metadata": {},
   "source": [
    "Tanto las computadoras como los humanos necesitan un lenguaje común, o un puente entre ambos. Se necesita de un lenguaje en el que los humanos puedan escribir sus programas y un lenguaje que las computadoras puedan usar para ejecutar los programas. Tales lenguajes son a menudo llamados __lenguajes de programación__ de alto nivel. Estos lenguajes permiten a los humanos expresar comandos a computadoras que son mucho más complejas que las ofrecidas por las IL."
   ]
  },
  {
   "cell_type": "markdown",
   "metadata": {},
   "source": [
    "Un programa escrito en un lenguaje de programación de alto nivel se llama __código fuente__ (en contraste con el código de máquina ejecutado por las computadoras). Del mismo modo, el archivo que contiene el código fuente se llama __archivo fuente__."
   ]
  },
  {
   "cell_type": "markdown",
   "metadata": {},
   "source": [
    "La programación de computadora es el acto de establecer una secuencia de instrucciones con la cual se causará el efecto deseado. El efecto podría ser diferente en cada caso específico: depende de la imaginación, el conocimiento y la experiencia del programador."
   ]
  },
  {
   "cell_type": "code",
   "execution_count": null,
   "metadata": {},
   "outputs": [],
   "source": []
  }
 ],
 "metadata": {
  "kernelspec": {
   "display_name": "Python 3",
   "language": "python",
   "name": "python3"
  },
  "language_info": {
   "codemirror_mode": {
    "name": "ipython",
    "version": 3
   },
   "file_extension": ".py",
   "mimetype": "text/x-python",
   "name": "python",
   "nbconvert_exporter": "python",
   "pygments_lexer": "ipython3",
   "version": "3.7.3"
  }
 },
 "nbformat": 4,
 "nbformat_minor": 2
}
