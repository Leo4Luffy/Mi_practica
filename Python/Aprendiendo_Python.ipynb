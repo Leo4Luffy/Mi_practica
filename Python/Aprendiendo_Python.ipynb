{
 "cells": [
  {
   "cell_type": "markdown",
   "metadata": {},
   "source": [
    "# ¡Aprendiendo Python! 🐍"
   ]
  },
  {
   "cell_type": "markdown",
   "metadata": {},
   "source": [
    "## ¿Qué es Python? 🤷‍♂️\n",
    "\n",
    "Python, cuyo nombre está inspirado en el grupo de cómicos ingleses \"Monty Python\", es un lenguaje de programación creado por Guido van Rossum a principios de los años 90."
   ]
  },
  {
   "cell_type": "markdown",
   "metadata": {},
   "source": [
    "<img src = 'https://4.bp.blogspot.com/-eIeWYX03z7E/VqNlII6GYpI/AAAAAAAAE4w/m6TPTsuuDUc/s1600/monty-python-5023bd28a513c%2B%25281%2529.jpg' width = '200' height = '200'>"
   ]
  },
  {
   "cell_type": "markdown",
   "metadata": {},
   "source": [
    "Este lenguaje tiene las siguientes características:\n",
    "\n",
    "1) Su lenguaje es interpretado o de script... es decir, se ejecuta mediante un programa intermedio (conocido como intérprete), en lugar de compilar el código a lenguaje máquina.\n",
    "\n",
    "2) Su tipado es dinámico... es decir, no es necesario declarar el tipo de dato que contendra una determinada variable. Adicionalmente a esta característica, es que es fuertemente tipado, por lo tanto, Python no permite tratar a una variable como si fuera de un tipo distinto al que tiene (es necesario convertir de forma explícita dicha variable al nuevo tipo previamente).\n",
    "\n",
    "3) El intérprete de Python está disponible en muchas plataformas (multiplataforma), por lo que el programa podrá correr en multitud de sistemas sin grandes cambios.\n",
    "\n",
    "4) Permite la programación orientada a objetos."
   ]
  },
  {
   "cell_type": "markdown",
   "metadata": {},
   "source": [
    "## ¿Por qué Python? 👀\n",
    "\n",
    "Porque su sintaxis es simple, clara y sencilla...  el tipado dinámico, el gestor de memoria, la gran cantidad de librerías disponibles y la potencia del lenguaje, entre otros, hacen que desarrollar una aplicación en Python sea sencillo, muy rápido y, lo que es más importante, divertido 👨‍💻"
   ]
  }
 ],
 "metadata": {
  "kernelspec": {
   "display_name": "Python 3",
   "language": "python",
   "name": "python3"
  },
  "language_info": {
   "codemirror_mode": {
    "name": "ipython",
    "version": 3
   },
   "file_extension": ".py",
   "mimetype": "text/x-python",
   "name": "python",
   "nbconvert_exporter": "python",
   "pygments_lexer": "ipython3",
   "version": "3.7.3"
  }
 },
 "nbformat": 4,
 "nbformat_minor": 2
}
